{
 "cells": [
  {
   "attachments": {},
   "cell_type": "markdown",
   "metadata": {},
   "source": [
    "# SQUANCH demonstration: superdense coding"
   ]
  },
  {
   "cell_type": "code",
   "execution_count": 2,
   "metadata": {},
   "outputs": [],
   "source": [
    "import numpy as np\n",
    "import time\n",
    "import matplotlib.image as image\n",
    "import matplotlib.pyplot as plt\n",
    "import multiprocessing\n",
    "from squanch import *"
   ]
  },
  {
   "cell_type": "code",
   "execution_count": 1,
   "metadata": {},
   "outputs": [],
   "source": [
    "%load_ext memory_profiler"
   ]
  },
  {
   "attachments": {},
   "cell_type": "markdown",
   "metadata": {},
   "source": [
    "$\\renewcommand{\\ket}[1]{\\lvert #1 \\rangle}$\n",
    "\n",
    "This Jupyter notebook contains the source code for the [superdense coding demonstration](https://att-innovate.github.io/squanch/demos/superdense-coding.html). Refer to the documentation for more detailed explanations. \n",
    "\n",
    "Superdense coding is a process whereby two parties connected via a quantum channel and sharing an entangled pair can send two classical bits of information using only a single qubit. Conceptually, superdense coding is the inverse of quantum teleportation. \n",
    "\n",
    "In this demonstration, we'll implement the three-party superdense coding protocol depicted in the circuit diagram shown below. Charlie distributes entangled particles to Alice and Bob. Alice encodes her information in her particles and sends them to Bob, who decodes the information by matching Alice’s qubits with his half of the shared state received from Charlie. More precisely:\n",
    "\n",
    "1. Charlie generates entangled pairs in the state $\\ket{AB} = \\frac{1}{\\sqrt{2}}\\left(\\ket{00}+\\ket{11}\\right)$ and sends one particle to Alice and the other to Bob.\n",
    "2. Alice has a number of bits she wishes to send to Bob. For each pair, she encodes her two bits $b_1$ and $b_2$ in the relative sign and phase of her qubit by conditionally applying $\\sigma_z$ and $\\sigma_x$, respectively. She then sends the modified qubit to Bob.\n",
    "3. Bob disentangles the X and Z components of the qubit by applying $\\mathrm{CNOT}$ and $H$ to Alice’s qubit and Charlie’s qubit. He then measures each of Alice’s and Charlie’s qubits to obtain $b_1$ and $b_2$, respectively.\n",
    "\n",
    "![Superdense coding circuit](../docs/source/img/superdense-circuit.png)\n",
    "\n",
    "For this demonstration, Alice will send data to Bob in the form of a serialized bitstream representing an image. We'll use the built-in timing functionality to track the simulated time for each agent to complete their part of the protocol. Since superdense coding could be used as a networking protocol in the foreseeable future, even very rudimentary simulated timing data could be useful to quantify the performance of the algorithm, especially if data validation and error correction through multiple transmission attempts is simulated. We assume a photon pulse interval of 1ns and a spatial separation between Alice and Bob of 1km, with Charlie at the midpoint. All agents are connected with the $\\texttt{FiberOpticQChannel}$ model, which simulates $0.16\\frac{\\mathrm{dB}}{\\mathrm{km}}$ attenuation errors by randomly changing transmitted $\\texttt{Qubit}$s to $\\texttt{None}$. Any dropped qubits lost to attenuation will have their bits replaced with 0."
   ]
  },
  {
   "cell_type": "code",
   "execution_count": 3,
   "metadata": {},
   "outputs": [],
   "source": [
    "class Charlie(Agent):\n",
    "    '''Charlie distributes Bell pairs between Alice and Bob.'''\n",
    "    def run(self):\n",
    "        for qsys in self.qstream:\n",
    "            a, b = qsys.qubits\n",
    "            H(a)\n",
    "            CNOT(a, b)\n",
    "            self.qsend(alice, a)\n",
    "            self.qsend(bob, b)\n",
    "        self.output({\"t\": self.time})"
   ]
  },
  {
   "cell_type": "code",
   "execution_count": 4,
   "metadata": {},
   "outputs": [],
   "source": [
    "class Alice(Agent):\n",
    "    '''Alice sends information to Bob via superdense coding'''\n",
    "    def run(self):\n",
    "        for _ in self.qstream:\n",
    "            bit1 = self.data.pop(0)\n",
    "            bit2 = self.data.pop(0)\n",
    "            q = self.qrecv(charlie)\n",
    "            if q is not None: # qubit could be lost due to attenuation errors\n",
    "                if bit2 == 1: X(q)\n",
    "                if bit1 == 1: Z(q)\n",
    "            self.qsend(bob, q)\n",
    "        self.output({\"t\": self.time})"
   ]
  },
  {
   "cell_type": "code",
   "execution_count": 5,
   "metadata": {},
   "outputs": [],
   "source": [
    "class Bob(Agent):\n",
    "    '''Bob receives Alice's transmissions and reconstructs her information'''\n",
    "    def run(self):\n",
    "        bits = []\n",
    "        for _ in self.qstream:\n",
    "            a = self.qrecv(alice)\n",
    "            c = self.qrecv(charlie)\n",
    "            if a is not None and c is not None:\n",
    "                CNOT(a, c)\n",
    "                H(a)\n",
    "                bits.extend([a.measure(), c.measure()])\n",
    "            else:\n",
    "                bits.extend([0,0])\n",
    "        self.output({\"t\": self.time, \"bits\": bits})"
   ]
  },
  {
   "attachments": {},
   "cell_type": "markdown",
   "metadata": {},
   "source": [
    "## Running the simulation"
   ]
  },
  {
   "cell_type": "code",
   "execution_count": 9,
   "metadata": {},
   "outputs": [],
   "source": [
    "multiprocessing.set_start_method(\"fork\", force=True)\n",
    "\n",
    "# Load an image and serialize it to a bitstream\n",
    "img = image.imread(\"../docs/source/img/foundryLogo.jpg\") \n",
    "bitstream = list(np.unpackbits(img))\n",
    "\n",
    "# Initialize the qstream\n",
    "qstream = QStream(2, int(len(bitstream) / 2))\n",
    "\n",
    "# Make agent instances\n",
    "out = Agent.shared_output()\n",
    "alice = Alice(qstream, out, data = bitstream)\n",
    "bob = Bob(qstream, out)\n",
    "charlie = Charlie(qstream, out)\n",
    "\n",
    "# Set photon transmission rate\n",
    "alice.pulse_length = 1e-9\n",
    "bob.pulse_length = 1e-9\n",
    "charlie.pulse_length = 1e-9\n",
    "\n",
    "# Connect the agents with simulated fiber optic lines; see squanch.channels module\n",
    "alice.qconnect(bob, FiberOpticQChannel, length=1.0)\n",
    "charlie.qconnect(alice, FiberOpticQChannel, length=0.5)\n",
    "charlie.qconnect(bob, FiberOpticQChannel, length=0.5)"
   ]
  },
  {
   "cell_type": "code",
   "execution_count": 13,
   "metadata": {},
   "outputs": [
    {
     "name": "stdout",
     "output_type": "stream",
     "text": [
      "30.7 s ± 0 ns per loop (mean ± std. dev. of 1 run, 1 loop each)\n"
     ]
    }
   ],
   "source": [
    "#%memit Simulation(alice, bob, charlie).run(monitor_progress=False)\n",
    "%timeit -r1 -n1  Simulation(alice, bob, charlie).run(monitor_progress=False)"
   ]
  },
  {
   "cell_type": "code",
   "execution_count": 11,
   "metadata": {},
   "outputs": [],
   "source": [
    "# import cProfile, flameprof"
   ]
  },
  {
   "cell_type": "code",
   "execution_count": 13,
   "metadata": {},
   "outputs": [
    {
     "name": "stdout",
     "output_type": "stream",
     "text": [
      "         421 function calls in 38.207 seconds\n",
      "\n",
      "   Ordered by: standard name\n",
      "\n",
      "   ncalls  tottime  percall  cumtime  percall filename:lineno(function)\n",
      "        3    0.000    0.000    0.000    0.000 <frozen importlib._bootstrap>:404(parent)\n",
      "        3    0.000    0.000    0.000    0.000 __init__.py:219(_acquireLock)\n",
      "        3    0.000    0.000    0.000    0.000 __init__.py:228(_releaseLock)\n",
      "        6    0.002    0.000    0.002    0.000 agent.py:68(__hash__)\n",
      "        1    0.000    0.000    0.000    0.000 cProfile.py:40(print_stats)\n",
      "        1    0.000    0.000    0.000    0.000 cProfile.py:50(create_stats)\n",
      "        3    0.000    0.000    0.040    0.013 context.py:222(_Popen)\n",
      "        3    0.000    0.000    0.000    0.000 context.py:237(get_context)\n",
      "        3    0.000    0.000    0.040    0.013 context.py:278(_Popen)\n",
      "        1    0.000    0.000    0.000    0.000 interactiveshell.py:633(get_ipython)\n",
      "       12    0.000    0.000    0.007    0.001 iostream.py:202(schedule)\n",
      "        6    0.000    0.000    0.018    0.003 iostream.py:471(flush)\n",
      "       12    0.000    0.000    0.000    0.000 iostream.py:90(_event_pipe)\n",
      "        3    0.000    0.000    0.039    0.013 popen_fork.py:15(__init__)\n",
      "       15    0.000    0.000   38.163    2.544 popen_fork.py:24(poll)\n",
      "        3    0.000    0.000   38.163   12.721 popen_fork.py:36(wait)\n",
      "        3    0.001    0.000    0.021    0.007 popen_fork.py:62(_launch)\n",
      "        3    0.000    0.000    0.043    0.014 process.py:110(start)\n",
      "        3    0.000    0.000   38.164   12.721 process.py:142(join)\n",
      "        6    0.000    0.000    0.000    0.000 process.py:189(name)\n",
      "        3    0.000    0.000    0.000    0.000 process.py:61(_cleanup)\n",
      "        6    0.000    0.000    0.000    0.000 process.py:99(_check_closed)\n",
      "        1    0.000    0.000    0.000    0.000 pstats.py:107(__init__)\n",
      "        1    0.000    0.000    0.000    0.000 pstats.py:117(init)\n",
      "        1    0.000    0.000    0.000    0.000 pstats.py:136(load_stats)\n",
      "        1    0.000    0.000    0.000    0.000 simulate.py:29(__init__)\n",
      "        1    0.000    0.000   38.206   38.206 simulate.py:70(run)\n",
      "        1    0.000    0.000    0.000    0.000 simulate.py:9(is_notebook)\n",
      "       12    0.007    0.001    0.007    0.001 socket.py:543(send)\n",
      "       18    0.000    0.000    0.000    0.000 threading.py:1102(_wait_for_tstate_lock)\n",
      "       12    0.000    0.000    0.000    0.000 threading.py:1145(ident)\n",
      "       18    0.000    0.000    0.000    0.000 threading.py:1169(is_alive)\n",
      "        6    0.000    0.000    0.000    0.000 threading.py:1430(current_thread)\n",
      "        6    0.000    0.000    0.000    0.000 threading.py:236(__init__)\n",
      "        6    0.000    0.000    0.000    0.000 threading.py:264(__enter__)\n",
      "        6    0.000    0.000    0.000    0.000 threading.py:267(__exit__)\n",
      "        6    0.000    0.000    0.000    0.000 threading.py:273(_release_save)\n",
      "        6    0.000    0.000    0.000    0.000 threading.py:276(_acquire_restore)\n",
      "        6    0.000    0.000    0.000    0.000 threading.py:279(_is_owned)\n",
      "        6    0.000    0.000    0.009    0.001 threading.py:288(wait)\n",
      "        6    0.000    0.000    0.001    0.000 threading.py:545(__init__)\n",
      "       18    0.000    0.000    0.000    0.000 threading.py:553(is_set)\n",
      "        6    0.000    0.000    0.009    0.001 threading.py:589(wait)\n",
      "        3    0.001    0.000    0.001    0.000 util.py:186(__init__)\n",
      "        3    0.000    0.000    0.018    0.006 util.py:433(_flush_std_streams)\n",
      "       12    0.002    0.000    0.002    0.000 {built-in method _thread.allocate_lock}\n",
      "        6    0.000    0.000    0.000    0.000 {built-in method _thread.get_ident}\n",
      "        1    0.000    0.000    0.000    0.000 {built-in method builtins.hasattr}\n",
      "        6    0.000    0.000    0.000    0.000 {built-in method builtins.hash}\n",
      "        1    0.000    0.000    0.000    0.000 {built-in method builtins.isinstance}\n",
      "        1    0.000    0.000    0.000    0.000 {built-in method builtins.len}\n",
      "        3    0.000    0.000    0.000    0.000 {built-in method builtins.next}\n",
      "        6    0.000    0.000    0.000    0.000 {built-in method posix.close}\n",
      "        3    0.019    0.006    0.019    0.006 {built-in method posix.fork}\n",
      "        9    0.000    0.000    0.000    0.000 {built-in method posix.getpid}\n",
      "        6    0.000    0.000    0.000    0.000 {built-in method posix.pipe}\n",
      "       15   38.163    2.544   38.163    2.544 {built-in method posix.waitpid}\n",
      "        3    0.000    0.000    0.000    0.000 {built-in method posix.waitstatus_to_exitcode}\n",
      "        6    0.000    0.000    0.000    0.000 {method '__enter__' of '_thread.lock' objects}\n",
      "        6    0.000    0.000    0.000    0.000 {method '__exit__' of '_thread.lock' objects}\n",
      "        3    0.000    0.000    0.000    0.000 {method 'acquire' of '_thread.RLock' objects}\n",
      "       42    0.008    0.000    0.008    0.000 {method 'acquire' of '_thread.lock' objects}\n",
      "        3    0.000    0.000    0.002    0.001 {method 'add' of 'set' objects}\n",
      "       18    0.000    0.000    0.000    0.000 {method 'append' of 'collections.deque' objects}\n",
      "        1    0.000    0.000    0.000    0.000 {method 'disable' of '_lsprof.Profiler' objects}\n",
      "        3    0.000    0.000    0.000    0.000 {method 'discard' of 'set' objects}\n",
      "        3    0.000    0.000    0.000    0.000 {method 'get' of 'dict' objects}\n",
      "        3    0.000    0.000    0.000    0.000 {method 'release' of '_thread.RLock' objects}\n",
      "        6    0.000    0.000    0.000    0.000 {method 'release' of '_thread.lock' objects}\n",
      "        3    0.000    0.000    0.000    0.000 {method 'rpartition' of 'str' objects}\n",
      "\n",
      "\n"
     ]
    }
   ],
   "source": [
    "# start_time = time.perf_counter()\n",
    "# with cProfile.Profile() as pr:\n",
    "#     Simulation(alice, bob, charlie).run(monitor_progress=False)\n",
    "#     pr.print_stats()\n",
    "# #cProfile.run(\"Simulation(alice, bob, charlie).run(monitor_progress=False)\", \"profileres\")\n",
    "# finish_time = time.perf_counter()"
   ]
  },
  {
   "cell_type": "code",
   "execution_count": 8,
   "metadata": {},
   "outputs": [
    {
     "ename": "NameError",
     "evalue": "name 'finish_time' is not defined",
     "output_type": "error",
     "traceback": [
      "\u001b[0;31m---------------------------------------------------------------------------\u001b[0m",
      "\u001b[0;31mNameError\u001b[0m                                 Traceback (most recent call last)",
      "Cell \u001b[0;32mIn[8], line 6\u001b[0m\n\u001b[1;32m      1\u001b[0m \u001b[39m# Run the agents\u001b[39;00m\n\u001b[1;32m      2\u001b[0m \u001b[39m# start_time = time.perf_counter()\u001b[39;00m\n\u001b[1;32m      3\u001b[0m \u001b[39m# Simulation(alice, bob, charlie).run(monitor_progress=False)\u001b[39;00m\n\u001b[1;32m      4\u001b[0m \u001b[39m# finish_time = time.perf_counter()\u001b[39;00m\n\u001b[0;32m----> 6\u001b[0m \u001b[39mprint\u001b[39m(\u001b[39m\"\u001b[39m\u001b[39mTotal simulation runtime: \u001b[39m\u001b[39m\"\u001b[39m,  finish_time \u001b[39m-\u001b[39m start_time, \u001b[39m\"\u001b[39m\u001b[39mseconds\u001b[39m\u001b[39m\"\u001b[39m)\n\u001b[1;32m      7\u001b[0m \u001b[39mprint\u001b[39m(\u001b[39m\"\u001b[39m\u001b[39mTransmitted \u001b[39m\u001b[39m{}\u001b[39;00m\u001b[39m bits in \u001b[39m\u001b[39m{:.3f}\u001b[39;00m\u001b[39ms.\u001b[39m\u001b[39m\"\u001b[39m\u001b[39m.\u001b[39mformat(\u001b[39mlen\u001b[39m(out[\u001b[39m\"\u001b[39m\u001b[39mBob\u001b[39m\u001b[39m\"\u001b[39m][\u001b[39m\"\u001b[39m\u001b[39mbits\u001b[39m\u001b[39m\"\u001b[39m]), finish_time \u001b[39m-\u001b[39m start_time))\n\u001b[1;32m      8\u001b[0m t_alice, t_bob, t_charlie \u001b[39m=\u001b[39m out[\u001b[39m\"\u001b[39m\u001b[39mAlice\u001b[39m\u001b[39m\"\u001b[39m][\u001b[39m\"\u001b[39m\u001b[39mt\u001b[39m\u001b[39m\"\u001b[39m], out[\u001b[39m\"\u001b[39m\u001b[39mBob\u001b[39m\u001b[39m\"\u001b[39m][\u001b[39m\"\u001b[39m\u001b[39mt\u001b[39m\u001b[39m\"\u001b[39m], out[\u001b[39m\"\u001b[39m\u001b[39mCharlie\u001b[39m\u001b[39m\"\u001b[39m][\u001b[39m\"\u001b[39m\u001b[39mt\u001b[39m\u001b[39m\"\u001b[39m]\n",
      "\u001b[0;31mNameError\u001b[0m: name 'finish_time' is not defined"
     ]
    }
   ],
   "source": [
    "# Run the agents\n",
    "# start_time = time.perf_counter()\n",
    "# Simulation(alice, bob, charlie).run(monitor_progress=False)\n",
    "# finish_time = time.perf_counter()\n",
    "\n",
    "print(\"Total simulation runtime: \",  finish_time - start_time, \"seconds\")\n",
    "print(\"Transmitted {} bits in {:.3f}s.\".format(len(out[\"Bob\"][\"bits\"]), finish_time - start_time))\n",
    "t_alice, t_bob, t_charlie = out[\"Alice\"][\"t\"], out[\"Bob\"][\"t\"], out[\"Charlie\"][\"t\"]\n",
    "print(\"Simulated time: Alice: {:.2e}s, Bob: {:.2e}s, Charlie: {:.2e}s\"\n",
    "      .format(t_alice, t_bob, t_charlie))\n",
    "received = np.reshape(np.packbits(out[\"Bob\"][\"bits\"]), img.shape)\n",
    "f, ax = plt.subplots(1, 2, figsize = (8, 4))\n",
    "ax[0].imshow(img)\n",
    "ax[0].axis('off')\n",
    "ax[0].title.set_text(\"Alice's image\")\n",
    "ax[1].imshow(received)\n",
    "ax[1].axis('off')\n",
    "ax[1].title.set_text(\"Bob's image\")\n",
    "plt.tight_layout()\n",
    "plt.show()"
   ]
  },
  {
   "cell_type": "code",
   "execution_count": null,
   "metadata": {},
   "outputs": [
    {
     "data": {
      "text/plain": [
       "311040"
      ]
     },
     "execution_count": 7,
     "metadata": {},
     "output_type": "execute_result"
    }
   ],
   "source": [
    "img = image.imread(\"../docs/source/img/foundryLogo.jpg\") \n",
    "bitstream = list(np.unpackbits(img))\n",
    "len(bitstream)"
   ]
  },
  {
   "cell_type": "code",
   "execution_count": null,
   "metadata": {},
   "outputs": [
    {
     "name": "stdout",
     "output_type": "stream",
     "text": [
      "Simulated time: Alice: 3.13e-04s, Bob: 3.16e-04s, Charlie: 3.11e-04s\n"
     ]
    }
   ],
   "source": [
    "print(\"Simulated time: Alice: {:.2e}s, Bob: {:.2e}s, Charlie: {:.2e}s\"\n",
    "      .format(t_alice, t_bob, t_charlie))"
   ]
  }
 ],
 "metadata": {
  "kernelspec": {
   "display_name": "pysquanch",
   "language": "python",
   "name": "python3"
  },
  "language_info": {
   "codemirror_mode": {
    "name": "ipython",
    "version": 3
   },
   "file_extension": ".py",
   "mimetype": "text/x-python",
   "name": "python",
   "nbconvert_exporter": "python",
   "pygments_lexer": "ipython3",
   "version": "3.10.9"
  },
  "vscode": {
   "interpreter": {
    "hash": "2ffef1300900cf47908854b526dcc2f59d45a9b6146df7fad1454c1795c82f79"
   }
  }
 },
 "nbformat": 4,
 "nbformat_minor": 2
}
