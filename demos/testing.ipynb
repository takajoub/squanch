{
 "cells": [
  {
   "cell_type": "code",
   "execution_count": 21,
   "metadata": {},
   "outputs": [
    {
     "name": "stdout",
     "output_type": "stream",
     "text": [
      "Process started\n",
      "Process started\n",
      "done\n",
      "done\n"
     ]
    },
    {
     "name": "stderr",
     "output_type": "stream",
     "text": [
      "Traceback (most recent call last):\n",
      "  File \"<string>\", line 1, in <module>\n",
      "  File \"/Users/takajoubert/opt/anaconda3/envs/pysquanch/lib/python3.10/multiprocessing/spawn.py\", line 116, in spawn_main\n",
      "    exitcode = _main(fd, parent_sentinel)\n",
      "  File \"/Users/takajoubert/opt/anaconda3/envs/pysquanch/lib/python3.10/multiprocessing/spawn.py\", line 126, in _main\n",
      "    self = reduction.pickle.load(from_parent)\n",
      "AttributeError: Can't get attribute 'torunA' on <module '__main__' (built-in)>\n",
      "Traceback (most recent call last):\n",
      "  File \"<string>\", line 1, in <module>\n",
      "  File \"/Users/takajoubert/opt/anaconda3/envs/pysquanch/lib/python3.10/multiprocessing/spawn.py\", line 116, in spawn_main\n",
      "    exitcode = _main(fd, parent_sentinel)\n",
      "  File \"/Users/takajoubert/opt/anaconda3/envs/pysquanch/lib/python3.10/multiprocessing/spawn.py\", line 126, in _main\n",
      "    self = reduction.pickle.load(from_parent)\n",
      "AttributeError: Can't get attribute 'torunB' on <module '__main__' (built-in)>\n"
     ]
    }
   ],
   "source": [
    "from multiprocessing import Process, Queue\n",
    "from time import sleep\n",
    "\n",
    "queue = Queue(maxsize=64)\n",
    "cqueue1 = Queue(maxsize=64)\n",
    "cqueue2 = Queue(maxsize=64)\n",
    "\n",
    "def torunA(queue, cqueue1, cqueue2):\n",
    "\n",
    "    # #while queue.qsize() >0 :\n",
    "    #     record = queue.get()\n",
    "    #     print(record)\n",
    "    #     sleep(1)\n",
    "    for _ in range(12500):\n",
    "        queue.put((3, 4.5))\n",
    "        cqueue1.put(45)\n",
    "        cqueue2.put(1)\n",
    "    print(\"worker closed\")\n",
    "\n",
    "def torunB(queue, cqueue1, cqueue2):\n",
    "    for _ in range(12500):\n",
    "        queue.get()\n",
    "        cqueue1.get()\n",
    "        cqueue2.get()\n",
    "    print(\"worker B done\")\n",
    "\n",
    "\n",
    "if __name__ == '__main__':\n",
    "    processes = [Process(target=torunA, args=(queue, cqueue1, cqueue2,)), Process(target=torunB, args=(queue, cqueue1, cqueue2,))]\n",
    "\n",
    "    for process in processes:\n",
    "        process.start()\n",
    "        print('Process started')\n",
    "\n",
    "    for process in processes:\n",
    "        print('done')\n"
   ]
  },
  {
   "cell_type": "code",
   "execution_count": 14,
   "metadata": {},
   "outputs": [
    {
     "name": "stdout",
     "output_type": "stream",
     "text": [
      "Process started\n",
      "Process started\n"
     ]
    },
    {
     "name": "stderr",
     "output_type": "stream",
     "text": [
      "Traceback (most recent call last):\n",
      "  File \"<string>\", line 1, in <module>\n",
      "Traceback (most recent call last):\n",
      "  File \"<string>\", line 1, in <module>\n",
      "  File \"/Users/takajoubert/opt/anaconda3/envs/pysquanch/lib/python3.10/multiprocessing/spawn.py\", line 116, in spawn_main\n",
      "  File \"/Users/takajoubert/opt/anaconda3/envs/pysquanch/lib/python3.10/multiprocessing/spawn.py\", line 116, in spawn_main\n",
      "    exitcode = _main(fd, parent_sentinel)\n",
      "    exitcode = _main(fd, parent_sentinel)  File \"/Users/takajoubert/opt/anaconda3/envs/pysquanch/lib/python3.10/multiprocessing/spawn.py\", line 126, in _main\n",
      "\n",
      "  File \"/Users/takajoubert/opt/anaconda3/envs/pysquanch/lib/python3.10/multiprocessing/spawn.py\", line 126, in _main\n",
      "    self = reduction.pickle.load(from_parent)\n",
      "AttributeError: Can't get attribute 'torunB' on <module '__main__' (built-in)>\n",
      "    self = reduction.pickle.load(from_parent)\n",
      "AttributeError: Can't get attribute 'torunA' on <module '__main__' (built-in)>\n"
     ]
    }
   ],
   "source": [
    "# if __name__ == '__main__':\n",
    "\n",
    "#     # for _ in range(12500):\n",
    "#     #     queue.put(id)\n",
    "\n"
   ]
  },
  {
   "cell_type": "code",
   "execution_count": 12,
   "metadata": {},
   "outputs": [
    {
     "ename": "TypeError",
     "evalue": "hello.mp_handler() takes 0 positional arguments but 1 was given",
     "output_type": "error",
     "traceback": [
      "\u001b[0;31m---------------------------------------------------------------------------\u001b[0m",
      "\u001b[0;31mTypeError\u001b[0m                                 Traceback (most recent call last)",
      "Cell \u001b[0;32mIn[12], line 1\u001b[0m\n\u001b[0;32m----> 1\u001b[0m y\u001b[39m.\u001b[39;49mmp_handler()\n",
      "\u001b[0;31mTypeError\u001b[0m: hello.mp_handler() takes 0 positional arguments but 1 was given"
     ]
    }
   ],
   "source": [
    "y.mp_handler()"
   ]
  }
 ],
 "metadata": {
  "kernelspec": {
   "display_name": "pysquanch",
   "language": "python",
   "name": "python3"
  },
  "language_info": {
   "codemirror_mode": {
    "name": "ipython",
    "version": 3
   },
   "file_extension": ".py",
   "mimetype": "text/x-python",
   "name": "python",
   "nbconvert_exporter": "python",
   "pygments_lexer": "ipython3",
   "version": "3.10.9"
  },
  "orig_nbformat": 4
 },
 "nbformat": 4,
 "nbformat_minor": 2
}
