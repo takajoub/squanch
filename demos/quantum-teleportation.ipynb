{
 "cells": [
  {
   "attachments": {},
   "cell_type": "markdown",
   "metadata": {},
   "source": [
    "# SQUANCH demonstration: quantum teleportation"
   ]
  },
  {
   "cell_type": "code",
   "execution_count": 1,
   "metadata": {},
   "outputs": [
    {
     "name": "stderr",
     "output_type": "stream",
     "text": [
      "UsageError: Line magic function `%` not found.\n"
     ]
    }
   ],
   "source": [
    "import numpy as np\n",
    "import matplotlib.pyplot as plt\n",
    "from squanch import *\n",
    "import multiprocessing\n",
    "#import time\n",
    "% matplotlib inline\n",
    "%load_ext memory_profiler"
   ]
  },
  {
   "attachments": {},
   "cell_type": "markdown",
   "metadata": {},
   "source": [
    "$\\renewcommand{\\ket}[1]{\\lvert #1 \\rangle}$\n",
    "\n",
    "This Jupyter notebook contains the source code for the [quantum teleportation demonstration](https://att-innovate.github.io/squanch/demos/quantum-teleportation.html). Refer to the documentation for more detailed explanations. \n",
    "\n",
    "Quantum teleportation allows two parties that share an entangled pair to transfer an arbitrary quantum state using only classical communication. This process has tremendous applicability to quantum networks, transferring fragile quantum states between distant nodes. Conceptually, quantum teleportation is the inverse of superdense coding.\n",
    "\n",
    "In general, all quantum teleportation experiments have the same underlying structure. Two distant parties, Alice and Bob, are connected via a classical information channel and share a maximally entangled state. Alice has an unknown state $\\ket{\\psi}$ which she wishes to send to Bob. She performs a joint projective measurement of her state and her half of the entangled state and communicates the outcomes to Bob, who operates on his half of the entangled state accordingly to reconstruct $\\ket{\\psi}$. In this demo, we’ll implement the canonical two-party quantum teleportation protocol:\n",
    "\n",
    "1. Alice generates an entangled two-particle state $\\ket{AB} = \\frac{1}{\\sqrt{2}}\\left(\\ket{00}+\\ket{11}\\right)$, keeping half of the state and sending the other half to Bob.\n",
    "2. Alice entangles her qubit $\\ket{\\psi}$ with her ancilla $\\ket{A}$ by applying controlled-not and Hadamard operators.\n",
    "3. Alice jointly measures $\\ket{\\psi}$ and $\\ket{A}$ and communicates the outcomes to Bob through a classical channel. Bob’s qubit is now in one of four possible Bell states, one of which is $\\ket{\\psi}$, and he will use Alice’s two bits to recover $\\ket{\\psi}$.\n",
    "4. Bob applies a Pauli-X operator to his qubit if Alice’s ancilla $A$ collapsed to $\\ket{1}$, and he applies a Pauli-Z operator to his qubit if her state $\\ket{\\psi}$ collapsed to $\\ket{1}$. He has thus transformed $\\ket{B}\\mapsto\\ket{\\psi}$.\n",
    "\\end{enumerate}\n",
    "\n",
    "This protocol is illustrated in the circuit diagram shown in Figure\n",
    "\n",
    "Quantum teleportation allows two parties that share an entangled pair to transfer a quantum state using classical communication. Conecptually, quantum teleportation is the inverse of superdense coding.\n",
    "\n",
    "![Teleportation circuit](./docs/source/img/teleportation-circuit.png)"
   ]
  },
  {
   "attachments": {},
   "cell_type": "markdown",
   "metadata": {},
   "source": [
    "## Agent logic"
   ]
  },
  {
   "cell_type": "code",
   "execution_count": 2,
   "metadata": {},
   "outputs": [],
   "source": [
    "class Alice(Agent):\n",
    "    '''Alice sends qubits to Bob using a shared Bell pair'''\n",
    "    \n",
    "    def distribute_bell_pair(self, a, b):\n",
    "        # Create a Bell pair and send one particle to Bob\n",
    "        H(a)\n",
    "        CNOT(a, b)\n",
    "        self.qsend(bob, b)\n",
    "\n",
    "    def teleport(self, q, a):\n",
    "        # Perform the teleportation\n",
    "        CNOT(q, a)\n",
    "        H(q)\n",
    "        # Tell Bob whether to apply Pauli-X and -Z over classical channel\n",
    "        bob_should_apply_x = a.measure() # if Bob should apply X\n",
    "        bob_should_apply_z = q.measure() # if Bob should apply Z\n",
    "        self.csend(bob, [bob_should_apply_x, bob_should_apply_z])\n",
    "\n",
    "    def run(self):\n",
    "        for qsystem in self.qstream:\n",
    "            q, a, b = qsystem.qubits # q is state to teleport, a and b are Bell pair\n",
    "            self.distribute_bell_pair(a, b)\n",
    "            self.teleport(q, a)"
   ]
  },
  {
   "cell_type": "code",
   "execution_count": 3,
   "metadata": {},
   "outputs": [],
   "source": [
    "class Bob(Agent):\n",
    "    '''Bob receives qubits from Alice and measures the results'''\n",
    "\n",
    "    def run(self):\n",
    "        measurement_results = []\n",
    "        for _ in self.qstream:\n",
    "            # Bob receives a qubit from Alice\n",
    "            b = self.qrecv(alice) \n",
    "            # Bob receives classical instructions from alice\n",
    "            should_apply_x, should_apply_z = self.crecv(alice)\n",
    "            if should_apply_x: X(b)\n",
    "            if should_apply_z: Z(b)\n",
    "            # Measure the output state\n",
    "            measurement_results.append(b.measure())\n",
    "        # Put results in output object\n",
    "        self.output(measurement_results)"
   ]
  },
  {
   "attachments": {},
   "cell_type": "markdown",
   "metadata": {},
   "source": [
    "### Simple demonstration\n",
    "\n",
    "In this demo, we'll teleport a short list of eigenstates with no simulated errors."
   ]
  },
  {
   "cell_type": "code",
   "execution_count": 12,
   "metadata": {},
   "outputs": [
    {
     "name": "stdout",
     "output_type": "stream",
     "text": [
      "Teleported states [1, 0, 1, 0, 1, 0, 1, 0, 1, 0]\n",
      "Received states   [1, 0, 1, 0, 1, 0, 1, 0, 1, 0]\n"
     ]
    }
   ],
   "source": [
    "multiprocessing.set_start_method(\"fork\", force=True)\n",
    "\n",
    "# Prepare the initial states\n",
    "qstream = QStream(3,10) # 3 qubits per trial, 10 trials\n",
    "states_to_teleport = [1, 0, 1, 0, 1, 0, 1, 0, 1, 0]\n",
    "for state, qsystem in zip(states_to_teleport, qstream):\n",
    "    q = qsystem.qubit(0)\n",
    "    if state == 1: X(q) # flip the qubits corresponding to 1 states\n",
    "\n",
    "# Make and connect the agents\n",
    "out = Agent.shared_output()\n",
    "alice = Alice(qstream, out)\n",
    "bob = Bob(qstream, out)\n",
    "alice.qconnect(bob) # add a quantum channel\n",
    "alice.cconnect(bob) # add a classical channel\n",
    "\n",
    "# Run everything\n",
    "alice.start()\n",
    "bob.start()\n",
    "alice.join()\n",
    "bob.join()\n",
    "\n",
    "print(\"Teleported states {}\".format(states_to_teleport))\n",
    "print(\"Received states   {}\".format(out[\"Bob\"]))"
   ]
  },
  {
   "attachments": {},
   "cell_type": "markdown",
   "metadata": {},
   "source": [
    "### Rotation demonstration\n",
    "\n",
    "Here we rotate an ensemble of qubits by various angles and compare measured to expected results. Since this example takes longer to run, we'll demonstrate using the `Simulation` module to automatically monitor progress."
   ]
  },
  {
   "cell_type": "code",
   "execution_count": 15,
   "metadata": {},
   "outputs": [],
   "source": [
    "angles = np.linspace(0, 2 * np.pi, 50)  # RX angles to apply\n",
    "num_trials = 250  # number of trials for each angle\n",
    "\n",
    "# Prepare the initial states in the stream\n",
    "qstream = QStream(3, len(angles) * num_trials)\n",
    "for angle in angles:\n",
    "    for _ in range(num_trials):\n",
    "        q, _, _ = qstream.next().qubits\n",
    "        RX(q, angle)\n",
    "\n",
    "# Make the agents and connect with quantum and classical channels\n",
    "out = Agent.shared_output()\n",
    "alice = Alice(qstream, out = out)\n",
    "bob = Bob(qstream, out = out)\n",
    "alice.qconnect(bob)\n",
    "alice.cconnect(bob)"
   ]
  },
  {
   "cell_type": "code",
   "execution_count": 16,
   "metadata": {},
   "outputs": [
    {
     "name": "stdout",
     "output_type": "stream",
     "text": [
      "Total simulation runtime:  2.806230125017464 seconds\n"
     ]
    }
   ],
   "source": [
    "# Run the simulation\n",
    "# start_time = time.perf_counter()\n",
    "# Simulation(alice, bob).run(monitor_progress=False)\n",
    "# finish_time = time.perf_counter()\n",
    "# print(\"Total simulation runtime: \",  finish_time - start_time, \"seconds\")\n",
    "%timeit Simulation(alice, bob).run(monitor_progress=False)\n",
    "#%memit Simulation(alice, bob).run(monitor_progress=False)\n"
   ]
  },
  {
   "cell_type": "code",
   "execution_count": 11,
   "metadata": {},
   "outputs": [
    {
     "data": {
      "image/png": "[encoded data removed]",
      "text/plain": [
       "<Figure size 640x480 with 1 Axes>"
      ]
     },
     "metadata": {},
     "output_type": "display_data"
    }
   ],
   "source": [
    "# Plot the results\n",
    "results = np.array(out[\"Bob\"]).reshape((len(angles), num_trials))\n",
    "observed = np.mean(results, axis = 1)\n",
    "expected = np.sin(angles / 2) ** 2\n",
    "plt.plot(angles, observed, label = 'Observed')\n",
    "plt.plot(angles, expected, label = 'Expected')\n",
    "plt.legend()\n",
    "plt.xlabel(\"Rotation angle $\\\\theta$\")\n",
    "plt.ylabel(\"Fractional $\\left | 1 \\\\right >$ population\")\n",
    "plt.show()"
   ]
  }
 ],
 "metadata": {
  "kernelspec": {
   "display_name": "pysquanch",
   "language": "python",
   "name": "python3"
  },
  "language_info": {
   "codemirror_mode": {
    "name": "ipython",
    "version": 3
   },
   "file_extension": ".py",
   "mimetype": "text/x-python",
   "name": "python",
   "nbconvert_exporter": "python",
   "pygments_lexer": "ipython3",
   "version": "3.10.9"
  },
  "vscode": {
   "interpreter": {
    "hash": "2ffef1300900cf47908854b526dcc2f59d45a9b6146df7fad1454c1795c82f79"
   }
  }
 },
 "nbformat": 4,
 "nbformat_minor": 2
}
