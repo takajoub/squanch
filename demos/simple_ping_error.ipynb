{
 "cells": [
  {
   "cell_type": "code",
   "execution_count": 1,
   "metadata": {},
   "outputs": [],
   "source": [
    "import numpy as np\n",
    "import time \n",
    "import matplotlib.image as image\n",
    "import matplotlib.pyplot as plt\n",
    "import multiprocessing\n",
    "from squanch import *"
   ]
  },
  {
   "cell_type": "code",
   "execution_count": 2,
   "metadata": {},
   "outputs": [
    {
     "data": {
      "application/vnd.jupyter.widget-view+json": {
       "model_id": "91cd53d03a704091807d5e0d811c9a38",
       "version_major": 2,
       "version_minor": 0
      },
      "text/plain": [
       "Alice:   0%|          | 0/10 [00:00<?, ?it/s]"
      ]
     },
     "metadata": {},
     "output_type": "display_data"
    },
    {
     "data": {
      "application/vnd.jupyter.widget-view+json": {
       "model_id": "b699f25511224f30bb53a30e9b763c57",
       "version_major": 2,
       "version_minor": 0
      },
      "text/plain": [
       "Bob:   0%|          | 0/10 [00:00<?, ?it/s]"
      ]
     },
     "metadata": {},
     "output_type": "display_data"
    },
    {
     "name": "stdout",
     "output_type": "stream",
     "text": [
      "Measurements: [1, 0, 1, 0, 1, 0, 1, 0, 1, 0]\n"
     ]
    }
   ],
   "source": [
    "class Alice(Agent):\n",
    "    '''Alice sends states to Bob and receives results'''\n",
    "    def run(self):\n",
    "        measurements = []\n",
    "        for i, qsys in enumerate(self.qstream):\n",
    "            q = qsys.qubit(0)\n",
    "            if (i % 2 == 0): X(q) # flip even qubits\n",
    "            self.qsend(bob, q)\n",
    "            result = self.crecv(bob)\n",
    "            measurements.append(result)\n",
    "        self.output({\"meas\": measurements,\"t\": self.time})\n",
    "        \n",
    "class Bob(Agent):\n",
    "    '''Bob measures Alics states and sends outcomes'''\n",
    "    def run(self):\n",
    "        for _ in self.qstream:\n",
    "            q = self.qrecv(alice)\n",
    "            self.csend(alice, q.measure())\n",
    "        self.output({\"t\": self.time})\n",
    "\n",
    "# Set up QStream and Agent instances\n",
    "multiprocessing.set_start_method(\"fork\", force=True)\n",
    "qstream = QStream(1, 10)\n",
    "out = Agent.shared_output()\n",
    "alice = Alice(qstream, out)\n",
    "bob = Bob(qstream, out)\n",
    "# Connect agents with classical and quantum channels\n",
    "alice.qconnect(bob)\n",
    "alice.cconnect(bob)\n",
    "# Run the simulation\n",
    "Simulation(alice, bob).run()\n",
    "print(\"Measurements: {}\".format(out[\"Alice\"][\"meas\"]))"
   ]
  },
  {
   "cell_type": "code",
   "execution_count": 3,
   "metadata": {},
   "outputs": [],
   "source": [
    "class SimpleError(QError):\n",
    "    def apply(self, qubit):\n",
    "        '''Flip the qubit with 50% probability'''\n",
    "        if np.random.rand() < 0.5:\n",
    "            X(qubit)\n",
    "        return qubit\n",
    "\n",
    "class SimpleQChannel(QChannel):\n",
    "    def __init__(self, *args, **kwargs):\n",
    "        QChannel.__init__(self, *args, **kwargs)\n",
    "        self.errors = [SimpleError(self)]"
   ]
  },
  {
   "cell_type": "code",
   "execution_count": 4,
   "metadata": {},
   "outputs": [],
   "source": [
    "# Set up QStream and Agent instances\n",
    "multiprocessing.set_start_method(\"fork\", force=True)\n",
    "qstream = QStream(1, 10)\n",
    "out = Agent.shared_output()\n",
    "alice = Alice(qstream, out)\n",
    "bob = Bob(qstream, out)\n",
    "alice.pulse_length = 10e-9 # 10ns pulse length\n",
    "bob.pulse_length = 10e-9\n",
    "# Connect agents with new model, specify 1km length\n",
    "alice.qconnect(bob, SimpleQChannel, length=1.0)\n",
    "alice.cconnect(bob, length=1.0)"
   ]
  },
  {
   "cell_type": "code",
   "execution_count": 5,
   "metadata": {},
   "outputs": [
    {
     "data": {
      "application/vnd.jupyter.widget-view+json": {
       "model_id": "e1c6f816305b42b7bdf4d5bf38e5c80c",
       "version_major": 2,
       "version_minor": 0
      },
      "text/plain": [
       "Alice:   0%|          | 0/10 [00:00<?, ?it/s]"
      ]
     },
     "metadata": {},
     "output_type": "display_data"
    },
    {
     "data": {
      "application/vnd.jupyter.widget-view+json": {
       "model_id": "ab2f43f4d3274ac68a2b39b52bd7e834",
       "version_major": 2,
       "version_minor": 0
      },
      "text/plain": [
       "Bob:   0%|          | 0/10 [00:00<?, ?it/s]"
      ]
     },
     "metadata": {},
     "output_type": "display_data"
    },
    {
     "name": "stdout",
     "output_type": "stream",
     "text": [
      "Alices time: 8.761114076050704e-05\n",
      "Bobs time: 8.427558372248169e-05\n",
      "Measurements: [0, 1, 0, 0, 1, 0, 0, 1, 1, 1]\n"
     ]
    }
   ],
   "source": [
    "# Run the simulation\n",
    "Simulation(alice, bob).run()\n",
    "alice_out, bob_out = out[\"Alice\"], out[\"Bob\"]\n",
    "print(\"Alices time: {}\".format(alice_out[\"t\"]))\n",
    "print(\"Bobs time: {}\".format(bob_out[\"t\"]))\n",
    "print(\"Measurements: {}\".format(alice_out[\"meas\"]))"
   ]
  },
  {
   "cell_type": "code",
   "execution_count": 6,
   "metadata": {},
   "outputs": [
    {
     "data": {
      "text/plain": [
       "28"
      ]
     },
     "execution_count": 6,
     "metadata": {},
     "output_type": "execute_result"
    }
   ],
   "source": [
    "import sys\n",
    "sys.getsizeof(1)"
   ]
  }
 ],
 "metadata": {
  "kernelspec": {
   "display_name": "pysquanch",
   "language": "python",
   "name": "python3"
  },
  "language_info": {
   "codemirror_mode": {
    "name": "ipython",
    "version": 3
   },
   "file_extension": ".py",
   "mimetype": "text/x-python",
   "name": "python",
   "nbconvert_exporter": "python",
   "pygments_lexer": "ipython3",
   "version": "3.10.9"
  },
  "orig_nbformat": 4,
  "vscode": {
   "interpreter": {
    "hash": "2ffef1300900cf47908854b526dcc2f59d45a9b6146df7fad1454c1795c82f79"
   }
  }
 },
 "nbformat": 4,
 "nbformat_minor": 2
}
