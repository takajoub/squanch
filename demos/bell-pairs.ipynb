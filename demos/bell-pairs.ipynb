{
 "cells": [
  {
   "cell_type": "code",
   "execution_count": 1,
   "metadata": {},
   "outputs": [
    {
     "name": "stdout",
     "output_type": "stream",
     "text": [
      "[[1.+0.j 0.+0.j 0.+0.j 0.+0.j]\n",
      " [0.+0.j 0.+0.j 0.+0.j 0.+0.j]\n",
      " [0.+0.j 0.+0.j 0.+0.j 0.+0.j]\n",
      " [0.+0.j 0.+0.j 0.+0.j 0.+0.j]]\n"
     ]
    }
   ],
   "source": [
    "import numpy as np\n",
    "import matplotlib.pyplot as plt\n",
    "from squanch import *\n",
    "%matplotlib inline\n",
    "\n",
    "# Prepare a two-qubit system, which defaults to the |00> state\n",
    "qsys = QSystem(2)\n",
    "print(qsys.state)"
   ]
  },
  {
   "cell_type": "code",
   "execution_count": 2,
   "metadata": {},
   "outputs": [
    {
     "name": "stdout",
     "output_type": "stream",
     "text": [
      "Loop 0\n",
      "<squanch.qubit.Qubit object at 0x7fea9950c690>\n",
      "<squanch.qubit.Qubit object at 0x7fea994b7850>\n",
      "Loop 1\n",
      "Loop 2\n"
     ]
    }
   ],
   "source": [
    "qsys2 = QSystem(2)\n",
    "for i in range(3):\n",
    "    print(\"Loop \"+str(i))\n",
    "    for qubit in qsys2.qubits:\n",
    "        print(qubit)"
   ]
  },
  {
   "cell_type": "code",
   "execution_count": 3,
   "metadata": {},
   "outputs": [
    {
     "name": "stdout",
     "output_type": "stream",
     "text": [
      "<squanch.qubit.Qubit object at 0x7fea9950c690>\n"
     ]
    }
   ],
   "source": [
    "a2 = qsys.qubit(0)\n",
    "print(a2)"
   ]
  },
  {
   "cell_type": "code",
   "execution_count": 4,
   "metadata": {},
   "outputs": [
    {
     "name": "stdout",
     "output_type": "stream",
     "text": [
      "<squanch.qubit.QSystem object at 0x7feaa84f7710>\n"
     ]
    }
   ],
   "source": [
    "print(a2.qsystem)"
   ]
  },
  {
   "cell_type": "code",
   "execution_count": 5,
   "metadata": {},
   "outputs": [
    {
     "data": {
      "text/plain": [
       "array([[0.5+0.j, 0. +0.j, 0.5+0.j, 0. +0.j],\n",
       "       [0. +0.j, 0. +0.j, 0. +0.j, 0. +0.j],\n",
       "       [0.5+0.j, 0. +0.j, 0.5+0.j, 0. +0.j],\n",
       "       [0. +0.j, 0. +0.j, 0. +0.j, 0. +0.j]], dtype=complex64)"
      ]
     },
     "execution_count": 5,
     "metadata": {},
     "output_type": "execute_result"
    }
   ],
   "source": [
    "H(a2)\n",
    "qsys.state"
   ]
  },
  {
   "cell_type": "code",
   "execution_count": 6,
   "metadata": {},
   "outputs": [
    {
     "name": "stdout",
     "output_type": "stream",
     "text": [
      "[[1, 1], [1, 1], [0, 0], [1, 1], [1, 1], [0, 0], [1, 1], [0, 0], [1, 1], [0, 0]]\n"
     ]
    }
   ],
   "source": [
    "results = [] # Where we'll put the measurement results\n",
    "\n",
    "for _ in range(10):\n",
    "    qsys = QSystem(2)\n",
    "    a, b = qsys.qubits # enumerate the qubits of the system\n",
    "    # Make a Bell pair\n",
    "    H(a)\n",
    "    CNOT(a, b)\n",
    "    # Measure the pair and append to results\n",
    "    results.append([a.measure(), b.measure()])\n",
    "\n",
    "print(results)"
   ]
  }
 ],
 "metadata": {
  "kernelspec": {
   "display_name": "pysqnchN",
   "language": "python",
   "name": "python3"
  },
  "language_info": {
   "codemirror_mode": {
    "name": "ipython",
    "version": 3
   },
   "file_extension": ".py",
   "mimetype": "text/x-python",
   "name": "python",
   "nbconvert_exporter": "python",
   "pygments_lexer": "ipython3",
   "version": "3.10.9"
  },
  "orig_nbformat": 4,
  "vscode": {
   "interpreter": {
    "hash": "caacccaaa21862d1bf5c7189aaedc4c08268d7692a143cae51c702c801ccb98c"
   }
  }
 },
 "nbformat": 4,
 "nbformat_minor": 2
}
