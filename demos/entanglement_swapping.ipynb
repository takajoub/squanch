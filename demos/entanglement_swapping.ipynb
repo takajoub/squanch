{
 "cells": [
  {
   "attachments": {},
   "cell_type": "markdown",
   "metadata": {},
   "source": [
    " ## Part 1: Entanglement Swapping Protocol \n",
    "    \n",
    "As opposed to teleportation of a single quantum state, entanglement ewapping involves the transfer (teleportation) of entanglement to two qubits that were produced independently and have never previously interacted. It is used to extend the range of shared entanglement.\n",
    "\n",
    "**Goal:** The purpose is to demonstrate how entanglement swapping is performed between two parties, where two bell pairs (maximally entangled state) generated locally are converted to a single bell pair shared between the users (pg 150 of The Quantum Internet, Rhode, P). The steps are as follows:\n",
    "\n",
    "- Alice and Bob generate EPR pairs $|\\Phi^+\\rangle_{AB}$ and $|\\Phi^+\\rangle_{CD}$ seperateley, resulting in the composite state $|\\Psi\\rangle_{ABCD} = |\\Phi^+\\rangle_{AB}|\\Phi^+\\rangle_{CD} $. \n",
    "- Each transmits half of their pair (qubit B and C) to Carol, who performs a bell projection between B and C yielding by chance $\\langle\\Phi^+\\rangle_{AB} |\\Psi\\rangle_{ABCD} = |\\Psi^+\\rangle_{AD}$ (or $|\\Phi^-\\rangle_{AD}$, $|\\Psi^-\\rangle_{AD}$, or $|\\Phi^+\\rangle_{AD}$). \n",
    "- Carol then sends the measurement results to Bob, who performs unitary pauli transformations necessary to obtain the $|\\Phi^+\\rangle_{AD}$ state in the case of the other 3 bell projection outcomes.\n",
    "\n",
    "Circuit diagram shown below, from  Michael R. Grimaila's Presentation \\Understanding Superdense Coding, Quantum Teleportation, and Entanglement Swapping Protocols\\ (2023)\n",
    "\n",
    "<!--> <img src=\\img/entanglement_swap.png\\ width=\\800\\>\\n <-->"
   ]
  },
  {
   "cell_type": "code",
   "execution_count": 2,
   "metadata": {},
   "outputs": [],
   "source": [
    "from squanch import *\n",
    "import numpy as np\n",
    "import matplotlib.image as image\n",
    "import matplotlib.pyplot as plt\n",
    "import multiprocessing\n",
    "\n",
    "multiprocessing.set_start_method(\"fork\", force=True)\n"
   ]
  },
  {
   "cell_type": "code",
   "execution_count": 4,
   "metadata": {},
   "outputs": [],
   "source": [
    "class Alice(Agent):\n",
    "    '''Alice wishes to entangle her qubit with Bob's\"'''\n",
    "    def run(self):\n",
    "        measurements = []\n",
    "        for qsys in self.qstream:\n",
    "            a, b, _, _ = qsys.qubits\n",
    "\n",
    "            # Locally prepare bell pair |Φ⁺⟩_AB\n",
    "            H(a)\n",
    "            CNOT(a, b)\n",
    "\n",
    "            # Send qubit b to Carol\n",
    "            self.qsend(carol, b)\n",
    "\n",
    "            # (To verify)  Measure qubit a after Bob measures his\n",
    "            m_d = self.crecv(bob)\n",
    "            measurements.append([a.measure(), m_d])\n",
    "            \n",
    "        self.output(measurements)"
   ]
  },
  {
   "cell_type": "code",
   "execution_count": 5,
   "metadata": {},
   "outputs": [],
   "source": [
    "class Carol(Agent):\n",
    "    \"\"\" Carol performs bell projection to link Alice and Bob's qubits\"\"\"\n",
    "    def run(self):\n",
    "        for _ in self.qstream:\n",
    "            # Receive qubits b and c from Alice and Bob\n",
    "            b = self.qrecv(alice)\n",
    "            c = self.qrecv(bob)\n",
    "\n",
    "            # Perform bell state measurment between b and c, entangling qubit a and d\n",
    "            CNOT(b, c)\n",
    "            H(b)\n",
    "            b1, b2 = bool(b.measure()), bool(c.measure())\n",
    "\n",
    "            # Forward measurments to Bob\n",
    "            self.csend(bob, [b2, b1])\n",
    "\n",
    "        self.output(\"Carol done\")"
   ]
  },
  {
   "cell_type": "code",
   "execution_count": 6,
   "metadata": {},
   "outputs": [],
   "source": [
    "class Bob(Agent):\n",
    "    \"\"\" Bob wishes to entangle his qubit with Alice's\"\"\"\n",
    "    def run(self):\n",
    "        for qsys in self.qstream:\n",
    "            _, _, c, d = qsys.qubits\n",
    "\n",
    "            # Locally prepare bell pair |Φ⁺⟩_CD\n",
    "            H(c)\n",
    "            CNOT(c, d)\n",
    "\n",
    "            # Send qubit c to Carol\n",
    "            self.qsend(carol, c)\n",
    "\n",
    "            # Receive bell state measurement from Carol, apply unitary trasformation to convert to |Φ⁺⟩_ad\n",
    "            should_apply_x, should_apply_z = self.crecv(carol)\n",
    "            if should_apply_x:\n",
    "                X(d)\n",
    "            if should_apply_z:\n",
    "                Z(d)\n",
    "\n",
    "            # Send measure to ALice\n",
    "            self.csend(alice, d.measure())\n",
    "\n",
    "        self.output(\"Bob done\")"
   ]
  },
  {
   "cell_type": "code",
   "execution_count": 7,
   "metadata": {},
   "outputs": [],
   "source": [
    "# Initialize quantum stream\n",
    "qstream = QStream(4, 10)\n",
    "\n",
    "# Setup Agent instances\n",
    "out = Agent.shared_output()\n",
    "alice = Alice(qstream, out = out)\n",
    "bob = Bob(qstream, out = out)\n",
    "carol = Carol(qstream, out = out)\n",
    "\n",
    "# Connect Agents with quantum and classical channels\n",
    "alice.qconnect(carol) # add a quantum channel\n",
    "bob.qconnect(carol)\n",
    "carol.cconnect(bob)\n",
    "bob.cconnect(alice) # add a classical channel"
   ]
  },
  {
   "cell_type": "code",
   "execution_count": 8,
   "metadata": {},
   "outputs": [
    {
     "name": "stdout",
     "output_type": "stream",
     "text": [
      "Alice,Eve Measures: [[0, 0], [0, 0], [1, 1], [1, 1], [1, 1], [1, 1], [0, 0], [1, 1], [1, 1], [1, 1]]\n",
      "\n"
     ]
    }
   ],
   "source": [
    "Simulation(alice, bob, carol).run(monitor_progress=False)\n",
    "print(\"Alice,Eve Measures: {}\\n\".format(out[\"Alice\"]))"
   ]
  },
  {
   "attachments": {},
   "cell_type": "markdown",
   "metadata": {},
   "source": [
    " ## Part 1: Quantum Repeater Chain (2 intermediate nodes)"
   ]
  },
  {
   "cell_type": "code",
   "execution_count": 9,
   "metadata": {},
   "outputs": [],
   "source": [
    "class Alice(Agent):\n",
    "    '''Alice wishes to entangle her qubit with Bob's\"'''\n",
    "    def run(self):\n",
    "        measurements = []\n",
    "        for qsys in self.qstream:\n",
    "            a, b, _, _, _, _= qsys.qubits\n",
    "\n",
    "            # Locally prepare bell pair |Φ⁺⟩_AB\n",
    "            H(a)\n",
    "            CNOT(a, b)\n",
    "\n",
    "            # Send qubit b to Carol\n",
    "            self.qsend(carol, b)\n",
    "\n",
    "            # (To verify)  Measure qubit a after Bob measures his\n",
    "            m_f = self.crecv(eve)\n",
    "            measurements.append([a.measure(), m_f])\n",
    "            \n",
    "        self.output(measurements)"
   ]
  },
  {
   "cell_type": "code",
   "execution_count": 10,
   "metadata": {},
   "outputs": [],
   "source": [
    "class Bob(Agent):\n",
    "    \"\"\" Bob wishes to entangle his qubit with Alice's\"\"\"\n",
    "    def run(self):\n",
    "        for qsys in self.qstream:\n",
    "            _, _, c, d, _, _= qsys.qubits\n",
    "\n",
    "            # Locally prepare bell pair |Φ⁺⟩_CD\n",
    "            H(c)\n",
    "            CNOT(c, d)\n",
    "\n",
    "            # Send qubit c to Carol\n",
    "            self.qsend(carol, c)\n",
    "\n",
    "\n",
    "            # Receive bell state measurement from Carol, apply unitary trasformation to convert to |Φ⁺⟩_ad\n",
    "            should_apply_x, should_apply_z = self.crecv(carol)\n",
    "            if should_apply_x:\n",
    "                X(d)\n",
    "            if should_apply_z:\n",
    "                Z(d)\n",
    "            \n",
    "            # Send qubit d (now entangled w/ Alice's qubit a) to Doug\n",
    "            self.qsend(doug, d)\n",
    "\n",
    "        self.output(\"Bob done\")"
   ]
  },
  {
   "cell_type": "code",
   "execution_count": 11,
   "metadata": {},
   "outputs": [],
   "source": [
    "class Carol(Agent):\n",
    "    \"\"\" Carol performs bell projection to link Alice and Bob's qubits\"\"\"\n",
    "    def run(self):\n",
    "        for _ in self.qstream:\n",
    "            # Receive qubits b and c from Alice and Bob\n",
    "            b = self.qrecv(alice)\n",
    "            c = self.qrecv(bob)\n",
    "\n",
    "            # Perform bell state measurment between b and c, entangling qubit a and d\n",
    "            CNOT(b, c)\n",
    "            H(b)\n",
    "            b1, b2 = bool(b.measure()), bool(c.measure())\n",
    "\n",
    "            # Forward measurments to Bob\n",
    "            self.csend(bob, [b2, b1])\n",
    "\n",
    "        self.output(\"Carol done\")"
   ]
  },
  {
   "cell_type": "code",
   "execution_count": 12,
   "metadata": {},
   "outputs": [],
   "source": [
    "class Eve(Agent):\n",
    "    \"\"\" Eve wishes to entangle her qubit with Alice's\"\"\"\n",
    "    def run(self):\n",
    "        for qsys in self.qstream:\n",
    "            _, _, _, _, e, f = qsys.qubits\n",
    "\n",
    "            # Locally prepare bell pair |Φ⁺⟩_EF\n",
    "            H(e)\n",
    "            CNOT(e, f)\n",
    "\n",
    "            # Send qubit e to Doug\n",
    "            self.qsend(doug, e)\n",
    "\n",
    "            # Receive bell state measurement from Doug, apply unitary trasformation to convert to |Φ⁺⟩_af\n",
    "            should_apply_x, should_apply_z = self.crecv(doug)\n",
    "            if should_apply_x:\n",
    "                X(f)\n",
    "            if should_apply_z:\n",
    "                Z(f)\n",
    "\n",
    "            # (To verify)  Measure qubit f, notify Alice to measure her half\n",
    "            m = f.measure()\n",
    "            self.csend(alice, m)\n",
    "    \n",
    "        self.output(\"Eve done\")"
   ]
  },
  {
   "cell_type": "code",
   "execution_count": 13,
   "metadata": {},
   "outputs": [],
   "source": [
    "class Doug(Agent):\n",
    "    \"\"\" Doug performs bell projection to link Alice and Eve's qubits\"\"\"\n",
    "    def run(self):\n",
    "        for _ in self.qstream:\n",
    "            # Receive qubits b and c from Alice and Bob\n",
    "            d = self.qrecv(bob)\n",
    "            e = self.qrecv(eve)\n",
    "\n",
    "            # Perform bell state measurment between b and c, entangling qubit a and d\n",
    "            CNOT(d, e)\n",
    "            H(d)\n",
    "            b1, b2 = bool(d.measure()), bool(e.measure())\n",
    "\n",
    "            # Forward measurments to Eve\n",
    "            self.csend(eve, [b2, b1])\n",
    "\n",
    "        self.output(\"doug done\")"
   ]
  },
  {
   "cell_type": "code",
   "execution_count": 14,
   "metadata": {},
   "outputs": [],
   "source": [
    "# Initialize quantum stream\n",
    "qstream = QStream(6, 10)\n",
    "\n",
    "# Setup Agent instances\n",
    "out = Agent.shared_output()\n",
    "alice = Alice(qstream, out = out)\n",
    "bob = Bob(qstream, out = out)\n",
    "carol = Carol(qstream, out = out)\n",
    "doug = Doug(qstream, out = out)\n",
    "eve = Eve(qstream, out = out)\n",
    "\n",
    "# Connect Agents with quantum and classical channels\n",
    "alice.qconnect(carol) # add a quantum channel\n",
    "bob.qconnect(carol)\n",
    "carol.cconnect(bob)\n",
    "bob.qconnect(doug)\n",
    "eve.qconnect(doug) \n",
    "doug.cconnect(eve) \n",
    "eve.cconnect(alice) # add a classical channel"
   ]
  },
  {
   "cell_type": "code",
   "execution_count": 15,
   "metadata": {},
   "outputs": [
    {
     "name": "stdout",
     "output_type": "stream",
     "text": [
      "Alice,Eve Measures: [[1, 1], [0, 0], [1, 1], [0, 0], [1, 1], [0, 0], [0, 0], [0, 0], [1, 1], [0, 0]]\n",
      "\n"
     ]
    }
   ],
   "source": [
    "Simulation(alice, bob, carol, doug, eve).run(monitor_progress=False)\n",
    "print(\"Alice,Eve Measures: {}\\n\".format(out[\"Alice\"]))"
   ]
  }
 ],
 "metadata": {
  "kernelspec": {
   "display_name": "pysquanch",
   "language": "python",
   "name": "python3"
  },
  "language_info": {
   "codemirror_mode": {
    "name": "ipython",
    "version": 3
   },
   "file_extension": ".py",
   "mimetype": "text/x-python",
   "name": "python",
   "nbconvert_exporter": "python",
   "pygments_lexer": "ipython3",
   "version": "3.10.9"
  },
  "orig_nbformat": 4
 },
 "nbformat": 4,
 "nbformat_minor": 2
}
